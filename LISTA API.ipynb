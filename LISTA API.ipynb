{
 "cells": [
  {
   "cell_type": "code",
   "execution_count": null,
   "metadata": {},
   "outputs": [],
   "source": [
    "import requests\n",
    "mesanoinicio = input ('Digite o mês e ano de inicio de consulta do extrato (mm/aaaa):')\n",
    "mesanofim = input ('Digite o mês e ano do fim de consulta do extrato (mm/aaaa):')\n",
    "pagina=1\n",
    "soma=0\n",
    "url = 'http://www.transparencia.gov.br/api-de-dados/cartoes?mesExtratoInicio='+mesanoinicio+'&mesExtratoFim='+mesanofim+'&pagina='+str(pagina)\n",
    "resposta = requests.get(url)\n",
    "resposta_json = resposta.json()\n",
    "while resposta.status_code == 200 and resposta_json!=[]:\n",
    "    pagina+=1000\n",
    "    url = 'http://www.transparencia.gov.br/api-de-dados/cartoes?mesExtratoInicio='+mesanoinicio+'&mesExtratoFim='+mesanofim+'&pagina='+str(pagina)\n",
    "    resposta = requests.get(url)\n",
    "    resposta_json = resposta.json()\n",
    "while resposta.status_code == 200 and resposta_json==[]:\n",
    "    pagina-=100\n",
    "    url = 'http://www.transparencia.gov.br/api-de-dados/cartoes?mesExtratoInicio='+mesanoinicio+'&mesExtratoFim='+mesanofim+'&pagina='+str(pagina)\n",
    "    resposta = requests.get(url)\n",
    "    resposta_json = resposta.json()\n",
    "while resposta.status_code == 200 and resposta_json!=[]:\n",
    "    pagina+=10\n",
    "    url = 'http://www.transparencia.gov.br/api-de-dados/cartoes?mesExtratoInicio='+mesanoinicio+'&mesExtratoFim='+mesanofim+'&pagina='+str(pagina)\n",
    "    resposta = requests.get(url)\n",
    "    resposta_json = resposta.json()\n",
    "while resposta.status_code == 200 and resposta_json==[]:\n",
    "    pagina-=1\n",
    "    url = 'http://www.transparencia.gov.br/api-de-dados/cartoes?mesExtratoInicio='+mesanoinicio+'&mesExtratoFim='+mesanofim+'&pagina='+str(pagina)\n",
    "    resposta = requests.get(url)\n",
    "    resposta_json = resposta.json()\n",
    "soma=(pagina-1)*15\n",
    "url = 'http://www.transparencia.gov.br/api-de-dados/cartoes?mesExtratoInicio='+mesanoinicio+'&mesExtratoFim='+mesanofim+'&pagina='+str(pagina-1)\n",
    "resposta = requests.get(url)\n",
    "resposta_json = resposta.json()\n",
    "for i in resposta_json:\n",
    "    soma+=1\n",
    "print ('Pagamentos realizados por meio de cartão de pagamento nesse intervalo?',soma)\n",
    "\n",
    "\n",
    "\n",
    "\n"
   ]
  },
  {
   "cell_type": "code",
   "execution_count": 2,
   "metadata": {},
   "outputs": [
    {
     "name": "stdout",
     "output_type": "stream",
     "text": [
      "Hello, Eric. You are 74.\n"
     ]
    }
   ],
   "source": [
    "name = \"Eric\"\n",
    "age = 74\n",
    "print(f\"Hello, {name}. You are {age}.\")"
   ]
  },
  {
   "cell_type": "code",
   "execution_count": null,
   "metadata": {},
   "outputs": [],
   "source": [
    "import requests\n",
    "from tkinter import *\n",
    "\n",
    "janela = Tk()\n",
    "janela.geometry('800x100+500+300')\n",
    "url = 'http://numbersapi.com/random?min0&max=1000&json'\n",
    "response1 = requests.get(url)\n",
    "response_json = response1.json()\n",
    "\n",
    "janela.title(response_json['number'])\n",
    "\n",
    "lbl_resposta = Label(janela, text = response_json['text'])\n",
    "lbl_resposta.pack()\n",
    "janela.mainloop()"
   ]
  },
  {
   "cell_type": "code",
   "execution_count": null,
   "metadata": {},
   "outputs": [],
   "source": []
  }
 ],
 "metadata": {
  "kernelspec": {
   "display_name": "Python 3",
   "language": "python",
   "name": "python3"
  },
  "language_info": {
   "codemirror_mode": {
    "name": "ipython",
    "version": 3
   },
   "file_extension": ".py",
   "mimetype": "text/x-python",
   "name": "python",
   "nbconvert_exporter": "python",
   "pygments_lexer": "ipython3",
   "version": "3.7.4"
  }
 },
 "nbformat": 4,
 "nbformat_minor": 2
}
