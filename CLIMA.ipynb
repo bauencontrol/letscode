{
 "cells": [
  {
   "cell_type": "code",
   "execution_count": 28,
   "metadata": {},
   "outputs": [
    {
     "name": "stdout",
     "output_type": "stream",
     "text": [
      "regiãosudeste\n",
      "O sol brilha forte e não há condições de chuva no ES, RJ, leste de SP e nordeste de MG. As outras áreas do Sudeste também terão um dia ensolarado e quente, mas a partir da tarde podem ocorrer pancadas de chuva.\n",
      "26/11/2019\n",
      "entre com o nome da cidade: curitiba\n",
      "enttre com a sigla do estado em maiusculo: PR\n",
      "6731\n",
      "{'error': True, 'detail': 'Access forbidden, you have no acces for this locale: 6731,\\n                     check our docs to register the city you want to consult'}\n"
     ]
    }
   ],
   "source": [
    "import requests\n",
    "\n",
    "regiao = input('região')\n",
    "\n",
    "url = 'http://apiadvisor.climatempo.com.br/api/v1/forecast/region/'+regiao+'?token=cf519aaeefd50f774fc76ecfffe1b977'\n",
    "\n",
    "resposta = requests.get(url)\n",
    "resposta_json = resposta.json()\n",
    "\n",
    "print (resposta_json['data'][1]['text'])\n",
    "print (resposta_json['data'][1]['date_br'])\n",
    "\n",
    "cidade = input('entre com o nome da cidade: ')\n",
    "estado = input('enttre com a sigla do estado em maiusculo: ')\n",
    "\n",
    "url_2 = 'http://apiadvisor.climatempo.com.br/api/v1/locale/city?name='+cidade+'&state='+estado+'&token=cf519aaeefd50f774fc76ecfffe1b977'\n",
    "\n",
    "resposta_2 = requests.get(url_2)\n",
    "resposta_json_2 = resposta_2.json()\n",
    "\n",
    "print (resposta_json_2[0]['id'])\n",
    "id_cidade = resposta_json_2[0]['id']\n",
    "id_cidade = str(id_cidade)\n",
    "\n",
    "\n",
    "url_3 = 'http://apiadvisor.climatempo.com.br/api/v1/weather/locale/'+id_cidade+'/current?token=cf519aaeefd50f774fc76ecfffe1b977'\n",
    "\n",
    "resposta_3 = requests.get(url_3)\n",
    "resposta_json_3 = resposta_3.json()\n",
    "\n",
    "print (resposta_json_3)"
   ]
  }
 ],
 "metadata": {
  "kernelspec": {
   "display_name": "Python 3",
   "language": "python",
   "name": "python3"
  },
  "language_info": {
   "codemirror_mode": {
    "name": "ipython",
    "version": 3
   },
   "file_extension": ".py",
   "mimetype": "text/x-python",
   "name": "python",
   "nbconvert_exporter": "python",
   "pygments_lexer": "ipython3",
   "version": "3.7.4"
  }
 },
 "nbformat": 4,
 "nbformat_minor": 2
}
